{
 "cells": [
  {
   "cell_type": "code",
   "execution_count": 3,
   "id": "2ddf3d52-8eca-4e71-9271-dff820b07121",
   "metadata": {},
   "outputs": [],
   "source": [
    "def five_times():\n",
    "    for i in range(5):\n",
    "        yield i"
   ]
  },
  {
   "cell_type": "code",
   "execution_count": 26,
   "id": "b97309ef-7b54-42af-88b5-92d26dc133e4",
   "metadata": {},
   "outputs": [],
   "source": [
    "generator = five_times()\n",
    "#for i in generator:\n",
    "#    print(i)"
   ]
  },
  {
   "cell_type": "code",
   "execution_count": 41,
   "id": "35afc5f0-eadb-4889-9718-3fe37787b7f5",
   "metadata": {},
   "outputs": [],
   "source": [
    "import random\n",
    "import math"
   ]
  },
  {
   "cell_type": "code",
   "execution_count": 38,
   "id": "5c64d56a-22b9-42a2-8904-95d2658b92f6",
   "metadata": {},
   "outputs": [
    {
     "data": {
      "text/plain": [
       "2.09493433259433"
      ]
     },
     "execution_count": 38,
     "metadata": {},
     "output_type": "execute_result"
    }
   ],
   "source": [
    "random.uniform(2, 4)"
   ]
  },
  {
   "cell_type": "code",
   "execution_count": 57,
   "id": "e7a7f305-8cf9-427f-a0ed-3c9263835e0e",
   "metadata": {
    "scrolled": true
   },
   "outputs": [
    {
     "data": {
      "text/plain": [
       "5.646800992944925"
      ]
     },
     "execution_count": 57,
     "metadata": {},
     "output_type": "execute_result"
    }
   ],
   "source": [
    "random.choice([random.uniform(0, math.pi/2), random.uniform(3*math.pi/2, 2*math.pi)])"
   ]
  },
  {
   "cell_type": "code",
   "execution_count": 60,
   "id": "d09f0ab6-7b7e-4452-a8ee-4820973da743",
   "metadata": {},
   "outputs": [],
   "source": [
    "import matplotlib.pyplot as plt"
   ]
  },
  {
   "cell_type": "code",
   "execution_count": 73,
   "id": "9012aa58-2ec7-4737-ad4d-7d36fbdc8f6f",
   "metadata": {},
   "outputs": [],
   "source": [
    "def min_dist_toroid(p1:tuple, p2:tuple, width = 500, heigth = 500) -> float:\n",
    "    \"\"\"\n",
    "    function return square of distance between 2 points in toroidal 2D surface\n",
    "    :param p1: coordinates of point1  (x1, y1)\n",
    "    :param p2: coordinates of point2  (x2, y2)\n",
    "    :return: square distance between p1, p2\n",
    "    \"\"\"\n",
    "    d1_x = abs(p1[0] - p2[0])\n",
    "    d2_x = abs(width - p1[0]) + p2[0]\n",
    "    d3_x = abs(width - p2[0]) + p1[0]\n",
    "    dx = min(d1_x, d2_x, d3_x)\n",
    "    d1_y = abs(p1[1] - p2[1])\n",
    "    d2_y = abs(width - p1[1]) + p2[1]\n",
    "    d3_y = abs(width - p2[1]) + p1[1]\n",
    "    dy = min(d1_y, d2_y, d3_y)\n",
    "\n",
    "    print(pow(d1_x*d1_x + d1_y*d1_y, 0.5))\n",
    "    print(pow(d2_x*d2_x + d2_y*d2_y, 0.5))\n",
    "    print(pow(d3_x*d3_x + d3_y*d3_y, 0.5))\n",
    "    return dx*dx + dy*dy"
   ]
  },
  {
   "cell_type": "code",
   "execution_count": 82,
   "id": "1ce156ee-85f2-41a0-90d3-b32b56bf22d3",
   "metadata": {},
   "outputs": [
    {
     "name": "stdout",
     "output_type": "stream",
     "text": [
      "645.3681120105022\n",
      "920.0543462209175\n",
      "993.2270636667126\n"
     ]
    },
    {
     "data": {
      "text/plain": [
       "80.62257748298549"
      ]
     },
     "execution_count": 82,
     "metadata": {},
     "output_type": "execute_result"
    }
   ],
   "source": [
    "a = min_dist_toroid(p1, p2)\n",
    "a**(0.5)"
   ]
  },
  {
   "cell_type": "code",
   "execution_count": 81,
   "id": "ecbff590-8a24-4546-b192-e371d2b3db0b",
   "metadata": {},
   "outputs": [
    {
     "data": {
      "text/plain": [
       "(0.0, 500.0)"
      ]
     },
     "execution_count": 81,
     "metadata": {},
     "output_type": "execute_result"
    },
    {
     "data": {
      "image/png": "[encoded data removed]",
      "text/plain": [
       "<Figure size 640x480 with 1 Axes>"
      ]
     },
     "metadata": {},
     "output_type": "display_data"
    }
   ],
   "source": [
    "p1 = (0, 490)\n",
    "p2 = (420, 0)\n",
    "\n",
    "plt.scatter([p1[0], p2[0]], [p1[1], p2[1]])\n",
    "plt.xlim([0, 500])\n",
    "plt.ylim([0, 500])"
   ]
  },
  {
   "cell_type": "code",
   "execution_count": 104,
   "id": "305602ee-d757-4f1d-97d2-3a50b0691073",
   "metadata": {},
   "outputs": [
    {
     "data": {
      "text/plain": [
       "5.921957263045223"
      ]
     },
     "execution_count": 104,
     "metadata": {},
     "output_type": "execute_result"
    }
   ],
   "source": [
    "2 * math.pi * random.random()"
   ]
  },
  {
   "cell_type": "code",
   "execution_count": 105,
   "id": "63178c8d-02a0-4f42-9120-fc37b365590c",
   "metadata": {},
   "outputs": [],
   "source": [
    "angles = [0, 320, 160]"
   ]
  },
  {
   "cell_type": "code",
   "execution_count": 130,
   "id": "609daf71-b03d-4509-8ae5-ba1319b6c3c0",
   "metadata": {},
   "outputs": [],
   "source": [
    "def avg_angle(angles):\n",
    "    avg = angles[0]\n",
    "    for i in range(1, len(angles)):\n",
    "        \n",
    "        avg -= min(abs(avg-angles[i]), abs(avg - 2*math.pi + angles[i]))/(i+1)\n",
    "        #avg += min(abs(avg-angles[i]), abs(avg - 360 + angles[i]))/(i+1)\n",
    "        print(avg)\n",
    "    return(avg)"
   ]
  },
  {
   "cell_type": "code",
   "execution_count": 146,
   "id": "eab7ec21-0d4d-47d5-aaa0-474937cf91a4",
   "metadata": {},
   "outputs": [
    {
     "name": "stdout",
     "output_type": "stream",
     "text": [
      "First Circular mean: 6.42\n"
     ]
    }
   ],
   "source": [
    "import math\n",
    "\n",
    "def circular_mean(angles):\n",
    "    # Calculate the sum of sin and cos values\n",
    "    sin_sum = sum([math.sin(angle) for angle in angles])\n",
    "    cos_sum = sum([math.cos(angle) for angle in angles])\n",
    "\n",
    "    # Calculate the circular mean using arctan2\n",
    "    #formula: theta = atan\n",
    "    mean_rad = math.atan2(sin_sum, cos_sum)\n",
    "    if mean_rad < 0:\n",
    "        return 2*math.pi - mean_rad\n",
    "    return mean_rad\n",
    "\n",
    "# Example usage:\n",
    "angles = [0, 6]\n",
    "mean_angle = circular_mean(angles)\n",
    "print(\"First Circular mean:\", round(mean_angle, 2))"
   ]
  },
  {
   "cell_type": "code",
   "execution_count": 147,
   "id": "1490fcee-acdc-46df-8be7-facb7f3230bc",
   "metadata": {},
   "outputs": [],
   "source": [
    "angles = [2.437338626136502, 4.493444776602372, 2.892983973919417, 4.066221847923589, 4.439933233128802, 1.7961766164932302, 2.654862570918689, 3.6344737934427105, 2.777917514165903, 2.3735874630476266]"
   ]
  },
  {
   "cell_type": "code",
   "execution_count": 149,
   "id": "a0f0e7ab-5270-4766-ab4b-b816f701c09a",
   "metadata": {},
   "outputs": [
    {
     "data": {
      "text/plain": [
       "3.114428467613783"
      ]
     },
     "execution_count": 149,
     "metadata": {},
     "output_type": "execute_result"
    }
   ],
   "source": [
    "circular_mean(angles)"
   ]
  },
  {
   "cell_type": "code",
   "execution_count": 151,
   "id": "fea00a8a-d89e-4d1a-a2da-4459abab8ead",
   "metadata": {},
   "outputs": [
    {
     "data": {
      "text/plain": [
       "1"
      ]
     },
     "execution_count": 151,
     "metadata": {},
     "output_type": "execute_result"
    }
   ],
   "source": [
    "random.choice([0, 1])"
   ]
  },
  {
   "cell_type": "code",
   "execution_count": 152,
   "id": "7bec6f39-8cfd-49d3-85ee-6b25ee09fc12",
   "metadata": {},
   "outputs": [],
   "source": [
    "rule_weights = {0: [abs(random.gauss(0.2, 0.001)), abs(random.gauss(0.1, 0.05)), abs(random.gauss(0.2, 0.02))],\n",
    "                1: [0.5, 0, 0]}"
   ]
  },
  {
   "cell_type": "code",
   "execution_count": 157,
   "id": "a8b62db1-753f-443c-bab2-4aae68004c43",
   "metadata": {},
   "outputs": [
    {
     "data": {
      "text/plain": [
       "0"
      ]
     },
     "execution_count": 157,
     "metadata": {},
     "output_type": "execute_result"
    }
   ],
   "source": [
    "rule_weights[1][1]"
   ]
  }
 ],
 "metadata": {
  "kernelspec": {
   "display_name": "Python 3 (ipykernel)",
   "language": "python",
   "name": "python3"
  },
  "language_info": {
   "codemirror_mode": {
    "name": "ipython",
    "version": 3
   },
   "file_extension": ".py",
   "mimetype": "text/x-python",
   "name": "python",
   "nbconvert_exporter": "python",
   "pygments_lexer": "ipython3",
   "version": "3.12.2"
  }
 },
 "nbformat": 4,
 "nbformat_minor": 5
}
